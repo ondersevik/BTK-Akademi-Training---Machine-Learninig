{
 "cells": [
  {
   "cell_type": "markdown",
   "metadata": {},
   "source": [
    "### EDA + BASIT VE COKLU DOGRUSAL İLE POLİNAMAL REGRESYON ŞABLONU + EXPLOTARY DATA ANALYS \n"
   ]
  },
  {
   "cell_type": "raw",
   "metadata": {},
   "source": [
    "1. BASIT DOGRUSAL REGRESYON ŞABLONU\n",
    "\n",
    "[ Y= A X + B ]\n",
    "Y = OUTPUT = Bağımlı Değişken X e bağımlı,\n",
    "X = ÖZELLİK = Bağımsız Değişken = Genelde özellikler\n",
    "A = Katsayı Weight Ağırlık yada dogrunun eğimi \n",
    "B = Bias Sapma\n",
    "\n",
    "1. METODOLOJİ = CRISP - DM (Cross Industry Standart Process for Data Mining)\n",
    "             1.BUSSINESS UNDERSTANDING\n",
    "             ****\n",
    "             2.DATA UNDERSTANDING [DU] [ KATOGORIK [NOMINAL+ORDINAL] VEYA SAYISAL [ORANSAL+ARALIK] VERİLER]\n",
    "             KATAG.VERİ İŞLEMLER: SINIFLANDIRMA *** SAYISAL VERİ İŞLEMLERİ: TAHMİN (PREDICTION) VE ÖNGÖRÜ (FORECASTING)\n",
    "             ****\n",
    "             3.DATA PREPARATION [DP]\n",
    "             ****\n",
    "             4. MODELLING\n",
    "             ****\n",
    "             5. EVALUATION\n",
    "             ****\n",
    "             6. DEPLOYMENT"
   ]
  },
  {
   "cell_type": "raw",
   "metadata": {},
   "source": [
    "# 2b. Obje Oriented Moddeling [2.4]\n",
    "\n",
    "class sevik:\n",
    "# sevik isminde sınıf tanımlandı ve aşağdakı method yada fonklar tanımlandı.\n",
    "    surname = \"Sevik\"\n",
    "    memleket = \"Manisa\"\n",
    "    yıl = 2022\n",
    "\n",
    "# egitim isminde method tanımlandı.methodların parametresi() olur ve \"self parametresini\" unutma .....\n",
    "    def egitim (self,k):\n",
    "        return 2021-k\n",
    "    \n",
    "# yas isminde method tanımlandı.\"self parametresini\" unutma .....\n",
    "    def yas(self,d_tar):\n",
    "        return 2021-d_tar\n",
    "    \n",
    "# sevik sınıfından atakan objesi tanımlandı.  \n",
    "atakan = sevik()\n",
    "\n",
    "#atakan objesi attributlerını print edelim.\n",
    "print(\"Soyadı :\" ,atakan.surname)\n",
    "print(\"Memleketi :\", atakan.memleket)\n",
    "print(\"Eğitim Yılı: \",atakan.egitim(2011), \"yıl\")\n",
    "print(\"Eğitim Süresi: \",atakan.yas(2005),\"yıl\")\n"
   ]
  },
  {
   "cell_type": "code",
   "execution_count": 15,
   "metadata": {},
   "outputs": [],
   "source": [
    "# 1. KUTUPHANELERİN YUKLENMESİ [3.1-3.2] \n",
    "\n",
    "import numpy as np\n",
    "import pandas as pd\n",
    "import matplotlib.pyplot as plt\n",
    "import seaborn as sns"
   ]
  },
  {
   "cell_type": "code",
   "execution_count": 16,
   "metadata": {},
   "outputs": [
    {
     "name": "stdout",
     "output_type": "stream",
     "text": [
      "    Aylar  Satislar\n",
      "0       8   19671.5\n",
      "1      10   23102.5\n",
      "2      11   18865.5\n",
      "3      13   21762.5\n",
      "4      14   19945.5\n",
      "5      19   28321.0\n",
      "6      19   30075.0\n",
      "7      20   27222.5\n",
      "8      20   32222.5\n",
      "9      24   28594.5\n",
      "10     25   31609.0\n",
      "11     25   27897.0\n",
      "12     25   28478.5\n",
      "13     26   28540.5\n",
      "14     29   30555.5\n",
      "15     31   33969.0\n",
      "16     32   33014.5\n",
      "17     34   41544.0\n",
      "18     37   40681.5\n",
      "19     37    4697.0\n",
      "20     42   45869.0\n",
      "21     44   49136.5\n",
      "22     49   50651.0\n",
      "23     50   56906.0\n",
      "24     54   54715.5\n",
      "25     55   52791.0\n",
      "26     59   58484.5\n",
      "27     59   56317.5\n",
      "28     64   61195.5\n",
      "29     65   60936.0\n"
     ]
    },
    {
     "data": {
      "image/png": "[encoded data removed]",
      "text/plain": [
       "<Figure size 432x288 with 1 Axes>"
      ]
     },
     "metadata": {
      "needs_background": "light"
     },
     "output_type": "display_data"
    }
   ],
   "source": [
    "# 2. VERİNİN (.CSV) İÇE YÜKLEMESİ ve PD DATAFRAME OLUŞTURMA (comma seperated value virgulle ayrılan veriler ) [3.3-3.4]\n",
    "\n",
    "# Verinin içe alınması :\n",
    "veriler = pd.read_csv(\"satislar.csv\")\n",
    "print(veriler)\n",
    "\n",
    "# Veriden kolonların çekilmesi : [Bu method dışında iloc[:] ve impute ile de kolonlar çekilebilir yukarıda örneği var]\n",
    "aylar = veriler[[\"Aylar\"]] \n",
    "satıs = veriler[[\"Satislar\"]] \n",
    "# satıs=veriler.iloc[:,:1].values ilede iloc ile tüm satırlar+1 nci kolon çekilip dizi(values) olarak alınabilir.\n",
    "\n",
    "# Explotary [Keşifsel] Grafiksel Gösterim :\n",
    "plt.scatter(aylar,satıs, color=\"black\")\n",
    "plt.title(\"AYLARA GÖRE SATIŞ\")\n",
    "plt.xlabel(\"AYLAR\")\n",
    "plt.ylabel(\"SATIŞLAR\")\n",
    "plt.grid(True)\n",
    "plt.show()\n",
    "\n"
   ]
  },
  {
   "cell_type": "markdown",
   "metadata": {},
   "source": [
    "#### EDA -- Advanced exploratory data analysis (EDA) with Python\n",
    "\n",
    "Investigation of structure, quality and content. Overall, the EDA approach is very iterative.\n",
    "1. Structure investigation : \n",
    "   Exploring the general shape of the dataset, as well as the data types of your features.\n",
    "2. Quality investigation   : \n",
    "   Get a feeling for the general quality of the dataset, with regards to duplicates, missing values and unwanted entries.\n",
    "3. Content investigation   :\n",
    "   Once the structure and quality of the dataset is understood, we can go ahead and perform a more in-depth exploration \n",
    "   on the features values and look at how different features relate to each other.\n"
   ]
  },
  {
   "cell_type": "code",
   "execution_count": 17,
   "metadata": {},
   "outputs": [
    {
     "name": "stdout",
     "output_type": "stream",
     "text": [
      " A. STRUCTURE INVESTIGATION :\n",
      " 1. Verilerin boyutu (satır*sutun)   : (30, 2)\n",
      " 2. Veriseti her veri tipleri        : Aylar         int64\n",
      "Satislar    float64\n",
      "dtype: object\n",
      " 3a. Veriseti veri tipleri (ilk 5)   :    Aylar  Satislar\n",
      "0      8   19671.5\n",
      "1     10   23102.5\n",
      "2     11   18865.5\n",
      "3     13   21762.5\n",
      "4     14   19945.5\n",
      " 3b. Veriseti değişkenleri           : Index(['Aylar', 'Satislar'], dtype='object')\n",
      "<class 'pandas.core.frame.DataFrame'>\n",
      "RangeIndex: 30 entries, 0 to 29\n",
      "Data columns (total 2 columns):\n",
      " #   Column    Non-Null Count  Dtype  \n",
      "---  ------    --------------  -----  \n",
      " 0   Aylar     30 non-null     int64  \n",
      " 1   Satislar  30 non-null     float64\n",
      "dtypes: float64(1), int64(1)\n",
      "memory usage: 608.0 bytes\n",
      " 4a. Veriseti genel yapısı           : None\n",
      " 4b. Veriseti freq, nadir ve toplamı:            Aylar      Satislar\n",
      "count  30.000000     30.000000\n",
      "mean   33.333333  36592.400000\n",
      "std    17.131003  14876.425816\n",
      "min     8.000000   4697.000000\n",
      "25%    20.000000  28003.000000\n",
      "50%    30.000000  31915.750000\n",
      "75%    47.750000  50272.375000\n",
      "max    65.000000  61195.500000\n",
      " 5. Veriseti sayısal veri uniq giriş: AxesSubplot(0.125,0.125;0.775x0.755)\n",
      " 6. Veriseti referans ve paydaş bilgileri: Originally published at https://miykael.github.io/blog/2022/advanced_eda/.\n"
     ]
    },
    {
     "data": {
      "image/png": "[encoded data removed]",
      "text/plain": [
       "<Figure size 1080x288 with 1 Axes>"
      ]
     },
     "metadata": {
      "needs_background": "light"
     },
     "output_type": "display_data"
    }
   ],
   "source": [
    "print(\" A. STRUCTURE INVESTIGATION :\")\n",
    "\n",
    "print(\" 1. Verilerin boyutu (satır*sutun)   :\", veriler.shape) # size of the dataset\n",
    "# veriler image resimleriyse;değişkenlerin (X1,X2,X3..) resimleri ayrı ayrı olmak üzere;\n",
    "# X1_resim = plt.imread(\"C:/......./resim.jpeg\")\n",
    "# resim_pixel = X1_resim.shape() ------- [768 ,768 , 3] Burada RGB değeri önemli renkli renksiz color greyscale\n",
    "print(\" 2. Veriseti her veri tipleri        :\", veriler.dtypes)\n",
    "print(\" 3a. Veriseti veri tipleri (ilk 5)   :\", veriler.head()) # closer look at numeric and non numeric values\n",
    "print(\" 3b. Veriseti değişkenleri           :\", veriler.columns) # .head yerine kulanılabilir\n",
    "print(\" 4a. Veriseti genel yapısı           :\", veriler.info()) # Number of samples and features,\n",
    "                                                               # what kind of data type each feature has,\n",
    "                                                               # and how many of them are binary, ordinal, categ. or continuous.\n",
    "print(\" 4b. Veriseti freq, nadir ve toplamı:\", veriler.describe()) # closer look at data statistics,\n",
    "                                                               # eğer katogorik veriler olsaydı (exclude=\"number\")\n",
    "\n",
    "print(\" 5. Veriseti sayısal veri uniq giriş:\",\n",
    "      veriler.select_dtypes(include=\"number\").nunique().sort_values().plot.bar(logy=True,\n",
    "                                                                               figsize=(15,4),\n",
    "                                                                               title=\"Değişken için uniqe degerler\"))\n",
    "print(\" 6. Veriseti referans ve paydaş bilgileri:\",\n",
    "      \"Originally published at https://miykael.github.io/blog/2022/advanced_eda/.\")\n",
    "      "
   ]
  },
  {
   "cell_type": "code",
   "execution_count": 18,
   "metadata": {},
   "outputs": [
    {
     "name": "stdout",
     "output_type": "stream",
     "text": [
      "1.[Duplicates] Veri settinde aylar değişkeninde 0 adet tekrar tespit edilmiştir.\n",
      "2.[Missing Values] Veri settinde değişken bazlı eksik veri grafiği aşağıdadır.\n"
     ]
    },
    {
     "data": {
      "image/png": "[encoded data removed]",
      "text/plain": [
       "<Figure size 720x360 with 1 Axes>"
      ]
     },
     "metadata": {
      "needs_background": "light"
     },
     "output_type": "display_data"
    }
   ],
   "source": [
    "\n",
    "# B. QUALITY INVESTIGATION\n",
    "\n",
    "# 1. DUPLICATE VERİ TESPİTİ : Check number of duplicates while ignoring the index feature\n",
    "n_duplicates = veriler.drop(labels=[\"Aylar\"], axis=1).duplicated().sum()\n",
    "print(f\"1.[Duplicates] Veri settinde aylar değişkeninde {n_duplicates} adet tekrar tespit edilmiştir.\")\n",
    "# veriler.drop_duplicate()  # DUPLICATE VERİ TEMİZLİĞİ : Duplicate veri varsa silinmek istenirse kullan çünkü overfit yapabilir.\n",
    "\n",
    "\n",
    "# Machine Learningde Data Augmantetion var. Yani veri setti daha önce kullanılmış ve augmente rotate etc edilmiş olabilir.\n",
    "# resimler için difPy kütüphanesi kullanılılabilir. Örnek aşağıda..\n",
    "# from difPy import dif\n",
    "# search =dif(\"C:/Users..................dosya\") aşağıda duplicate resimleri çözer.\n",
    "\n",
    "\n",
    "# 2. EKSİK VERİ TESPİTİ : [DEĞİŞKEN BAZLI] Another quality issue worth to investigate are missing values.\n",
    "# What we want to identify at this stage are big holes in the dataset, i.e. samples or features with a lot of missing values.\n",
    "print(\"2.[Missing Values] Veri settinde değişken bazlı eksik veri grafiği aşağıdadır.\")\n",
    "veriler.isna().mean().sort_values().plot(kind=\"bar\",\n",
    "                                         figsize=(10, 5),\n",
    "                                         title=\"DEĞİŞKEN BAZLI KAYIP VERİ ORANI (%)\",\n",
    "                                         ylabel=\"Her değişken eksik veri rasyosu\")\n",
    "plt.tight_layout();"
   ]
  },
  {
   "cell_type": "code",
   "execution_count": 19,
   "metadata": {},
   "outputs": [
    {
     "name": "stdout",
     "output_type": "stream",
     "text": [
      "1.[Feature Distribution] Veri temizliği ve feature dönüşümünde kullanılacak histogram grafiği ; \n",
      "2.[Feature Patterns] histogram grafiği ; \n",
      "3.[Feature Correlation ; ]\n"
     ]
    },
    {
     "data": {
      "image/png": "[encoded data removed]",
      "text/plain": [
       "<Figure size 1080x360 with 3 Axes>"
      ]
     },
     "metadata": {
      "needs_background": "light"
     },
     "output_type": "display_data"
    },
    {
     "data": {
      "image/png": "[encoded data removed]",
      "text/plain": [
       "<Figure size 1368x432 with 3 Axes>"
      ]
     },
     "metadata": {
      "needs_background": "light"
     },
     "output_type": "display_data"
    },
    {
     "data": {
      "image/png": "[encoded data removed]",
      "text/plain": [
       "<Figure size 1080x360 with 2 Axes>"
      ]
     },
     "metadata": {
      "needs_background": "light"
     },
     "output_type": "display_data"
    }
   ],
   "source": [
    "# C. CONTENT INVESTIGATION\n",
    "\n",
    "# 1. DEĞİŞKEN DAĞILIMI : Feature distribution\n",
    "# Plots the histogram for each numerical feature in a separate subplot\n",
    "# Her özelliğin değer dağılımına bakmak, verilerin içeriğini daha iyi anlamanın harika bir yoludur.\n",
    "# EDA'ya rehberlik etmeye yardımcı olur ve veri temizleme ve özellik dönüştürme ile ilgili birçok yararlı bilgi sağlar.\n",
    "# Bunu sayısal özellikler için yapmanın en hızlı yolu histogram grafiklerini kullanmaktır.\n",
    "print(\"1.[Feature Distribution] Veri temizliği ve feature dönüşümünde kullanılacak histogram grafiği ; \")\n",
    "veriler.hist(bins=25,\n",
    "            figsize=(15, 5), # grafik boyutlarını ayarlıyor\n",
    "            layout=(-1, 3),\n",
    "            edgecolor=\"black\")\n",
    "plt.tight_layout();\n",
    "\n",
    "# 2. DEĞİŞKEN DESENİ : Feature patterns\n",
    "# Bazı verilerin iptalini sağlayabileceğimiz desenler tespit edebilirmiyiz.\n",
    "# Veri settini anlamak için Değişkenler arasındaki ilişkileri  tespit edebilirmiyiz. \n",
    "print(\"2.[Feature Patterns] histogram grafiği ; \")\n",
    "veriler[[\"Aylar\",\"Satislar\"]].plot(lw=0,\n",
    "                                   marker=\".\",\n",
    "                                   subplots=True,\n",
    "                                   layout=(-1, 3),\n",
    "                                   markersize=0.1,\n",
    "                                   figsize=(19, 6));\n",
    "# 3. DEĞİŞKEN KORELASYONU : Feature correlations\n",
    "# Spearman korelasyonu, her bir özellik için sıralanmış değerlere dayalı monotonik ilişkiyi değerlendirir.\n",
    "# Bu korelasyon matrisinin yorumlanmasına yardımcı olması için seaborn grafik kullanılacak\n",
    "\n",
    "print(\"3.[Feature Correlation ; ]\")\n",
    "# Computes feature correlation\n",
    "df_corr = veriler.corr(method=\"pearson\")\n",
    "\n",
    "# Create labels for the correlation matrix\n",
    "labels = np.where(np.abs(df_corr)>0.75,\n",
    "                  \"S\",\n",
    "                  np.where(np.abs(df_corr)>0.5,\n",
    "                  \"M\",\n",
    "                  np.where(np.abs(df_corr)>0.25,\n",
    "                  \"W\", \"\")))\n",
    "\n",
    "# Plot correlation matrix\n",
    "plt.figure(figsize=(15, 5))\n",
    "sns.heatmap(df_corr,\n",
    "            mask=np.eye(len(df_corr)),\n",
    "            square=True,\n",
    "            center=0,\n",
    "            annot=labels,\n",
    "            fmt='',\n",
    "            linewidths=.5,\n",
    "            cmap=\"vlag\",\n",
    "            cbar_kws={\"shrink\": 0.8});\n"
   ]
  },
  {
   "cell_type": "markdown",
   "metadata": {},
   "source": [
    "İçerik araştırmasının sonucu\n",
    "Bu üçüncü incelemenin sonunda, veri kümemizdeki içeriği daha iyi anlarız.\n",
    "Değer dağılımına, özellik modellerine ve özellik korelasyonlarına baktık.\n",
    "Ancak, bunlar kesinlikle yapabileceğiniz tüm olası içerik araştırma ve veri temizleme adımları değildir.\n",
    "Ek adımlar, örneğin aykırı değer algılama ve kaldırma, özellik mühendisliği ve dönüştürme ve daha fazlası olabilir.\n",
    "Doğru ve ayrıntılı bir EDA zaman alır! Veri kümesindeki başka bir kusuru ele aldıktan sonra,\n",
    "genellikle en başa dönmenizi sağlayan çok yinelemeli bir süreçtir.\n",
    "Herhangi bir veri bilimi projesinin %80'inin veri hazırlama ve EDA olduğunu sık sık söylememizin nedeni budur.\n",
    "Originally published at https://miykael.github.io/blog/2022/advanced_eda/.\n",
    "\n",
    "RESİM-İmage veriler için bu farklı geliştirilmelidir."
   ]
  },
  {
   "cell_type": "code",
   "execution_count": 20,
   "metadata": {},
   "outputs": [
    {
     "name": "stdout",
     "output_type": "stream",
     "text": [
      "   ulke  boy  kilo   yas cinsiyet\n",
      "0    tr  130    30  10.0        e\n",
      "1    tr  125    36  11.0        e\n",
      "2    tr  135    34  10.0        k\n",
      "3    tr  133    30   9.0        k\n",
      "4    tr  129    38  12.0        e\n",
      "5    tr  180    90  30.0        e\n",
      "6    tr  190    80  25.0        e\n",
      "7    tr  175    90  35.0        e\n",
      "8    tr  177    60  22.0        k\n",
      "9    us  185   105  33.0        e\n",
      "10   us  165    55  27.0        k\n",
      "11   us  155    50  44.0        k\n",
      "12   us  160    58   NaN        k\n",
      "13   us  162    59  41.0        k\n",
      "14   us  167    62  55.0        k\n",
      "15   fr  174    70  47.0        e\n",
      "16   fr  193    90   NaN        e\n",
      "17   fr  187    80  27.0        e\n",
      "18   fr  183    88  28.0        e\n",
      "19   fr  159    40  29.0        k\n",
      "20   fr  164    66  32.0        k\n",
      "21   fr  166    56  42.0        k\n",
      "[[130.  30.  10.]\n",
      " [125.  36.  11.]\n",
      " [135.  34.  10.]\n",
      " [133.  30.   9.]\n",
      " [129.  38.  12.]\n",
      " [180.  90.  30.]\n",
      " [190.  80.  25.]\n",
      " [175.  90.  35.]\n",
      " [177.  60.  22.]\n",
      " [185. 105.  33.]\n",
      " [165.  55.  27.]\n",
      " [155.  50.  44.]\n",
      " [160.  58.  nan]\n",
      " [162.  59.  41.]\n",
      " [167.  62.  55.]\n",
      " [174.  70.  47.]\n",
      " [193.  90.  nan]\n",
      " [187.  80.  27.]\n",
      " [183.  88.  28.]\n",
      " [159.  40.  29.]\n",
      " [164.  66.  32.]\n",
      " [166.  56.  42.]]\n",
      "[[130.    30.    10.  ]\n",
      " [125.    36.    11.  ]\n",
      " [135.    34.    10.  ]\n",
      " [133.    30.     9.  ]\n",
      " [129.    38.    12.  ]\n",
      " [180.    90.    30.  ]\n",
      " [190.    80.    25.  ]\n",
      " [175.    90.    35.  ]\n",
      " [177.    60.    22.  ]\n",
      " [185.   105.    33.  ]\n",
      " [165.    55.    27.  ]\n",
      " [155.    50.    44.  ]\n",
      " [160.    58.    28.45]\n",
      " [162.    59.    41.  ]\n",
      " [167.    62.    55.  ]\n",
      " [174.    70.    47.  ]\n",
      " [193.    90.    28.45]\n",
      " [187.    80.    27.  ]\n",
      " [183.    88.    28.  ]\n",
      " [159.    40.    29.  ]\n",
      " [164.    66.    32.  ]\n",
      " [166.    56.    42.  ]]\n"
     ]
    }
   ],
   "source": [
    "# 2c. ON İŞLEME - Eksik Verilerle Çalışma [2.5] \n",
    "\n",
    "##**** EKSİK VERİ YOK YAPILMAYACAK AMA ÖĞRENMEK İÇİN ALTTAKİ SATIRLARI DENE ÇALIŞIYOR ****\n",
    "\n",
    "veriler = pd.read_csv(\"eksikveriler.csv\") \n",
    "print(veriler)\n",
    "\n",
    "# NaN valuee eksik veriler yas degerleri belli değil. \n",
    "# Burada değer sayısalmı katogorikmi değilmi? Ne method kullanılacak ortalama vs.karar verilecek.\n",
    "# Sayısal veriler için Ortalama ile imputer yapalım.\n",
    "\n",
    "from sklearn.impute import SimpleImputer # sklearn kutuphanesiden Imputer import edelim.\n",
    "Yas = veriler.iloc[:,1:4].values         # csv dosyasından 1-4 arasındaki sutunların tum satırları\n",
    "print(Yas)                               # Nan değerlerin kontrolü için basalım\n",
    "\n",
    "imputer = SimpleImputer(missing_values=np.nan, strategy=\"mean\") \n",
    "# \"Nan\" eksik veriler \"mean\" ortalama stratejisi ile imputer objesine atayalım.\n",
    "imputer = imputer.fit(Yas[:,1:4])          # 1-4 sutunları mevcut değerlerle ortalama ile FIT(train) edelim.\n",
    "Yas[:,1:4] = imputer.transform(Yas[:,1:4]) # (28.45) Train sonucu Nan değerleri impute edelim.\n",
    "print(Yas)                                 # Nan değerlerin impute kontrolü için basalım"
   ]
  },
  {
   "cell_type": "code",
   "execution_count": 21,
   "metadata": {},
   "outputs": [
    {
     "name": "stdout",
     "output_type": "stream",
     "text": [
      "[[1]\n",
      " [1]\n",
      " [1]\n",
      " [1]\n",
      " [1]\n",
      " [1]\n",
      " [1]\n",
      " [1]\n",
      " [1]\n",
      " [2]\n",
      " [2]\n",
      " [2]\n",
      " [2]\n",
      " [2]\n",
      " [2]\n",
      " [0]\n",
      " [0]\n",
      " [0]\n",
      " [0]\n",
      " [0]\n",
      " [0]\n",
      " [0]]\n",
      "[[0. 1. 0.]\n",
      " [0. 1. 0.]\n",
      " [0. 1. 0.]\n",
      " [0. 1. 0.]\n",
      " [0. 1. 0.]\n",
      " [0. 1. 0.]\n",
      " [0. 1. 0.]\n",
      " [0. 1. 0.]\n",
      " [0. 1. 0.]\n",
      " [0. 0. 1.]\n",
      " [0. 0. 1.]\n",
      " [0. 0. 1.]\n",
      " [0. 0. 1.]\n",
      " [0. 0. 1.]\n",
      " [0. 0. 1.]\n",
      " [1. 0. 0.]\n",
      " [1. 0. 0.]\n",
      " [1. 0. 0.]\n",
      " [1. 0. 0.]\n",
      " [1. 0. 0.]\n",
      " [1. 0. 0.]\n",
      " [1. 0. 0.]]\n"
     ]
    },
    {
     "data": {
      "text/plain": [
       "(None, None)"
      ]
     },
     "execution_count": 21,
     "metadata": {},
     "output_type": "execute_result"
    }
   ],
   "source": [
    "# 2d. ON İŞLEME - Katogorik Verilerle Çalışma [2.6] ulke katogorik verileri (fr,tr,us)\n",
    "\n",
    "ulke = veriler.iloc[:,0:1].values       # İlk sutundaki katogorik veriler alındı. (fr,tr,us)\n",
    "\n",
    "# 2d1. LE - LABEL ENCODING İLE KATOGORİKLERİN DÖNÜŞTÜRÜLMESİ:\n",
    "\n",
    "from sklearn import preprocessing       # sklearn kutuphanesinden prexxx import edildi.\n",
    "le = preprocessing.LabelEncoder()       # LE ön işleme le objesi oluşturuldu\n",
    "ulke[:,0] = le.fit_transform(veriler.iloc[:,0]) # Train ve transform edilen sütün sayısal (0,1) dönüştü.\n",
    "\n",
    "# 2d2. OHE - ONE HOT ENCODER İLE KATOGORİKLERİN DÖNÜŞTÜRÜLMESİ:\n",
    "\n",
    "ohe = preprocessing.OneHotEncoder()     # ohe ön işleme le objesi oluşturuldu\n",
    "ulke_ohe = ohe.fit_transform(ulke).toarray()\n",
    " \n",
    "print(ulke), print(ulke_ohe)\n"
   ]
  },
  {
   "cell_type": "raw",
   "metadata": {},
   "source": [
    "# 2e. ON İŞLEME - Katogorik Verilerle Encoding (ulke veri kumesi) + Eksik Verilerle Çalışma Birleştrilmesi [2.7] \n",
    "# yukarıda oluşturulan numpy arraylar/dizilerin DATAFRAME dönüştürülmesi \n",
    "\n",
    "#dataframelerde : index colonu var , indexlerde satır ve colon sayısı ve başlıkları var\n",
    "#diziler (arraylar) : kolon başlığıda satır sayısıda yok\n",
    "\n",
    "#########################################################\n",
    "sonuculke = pd.DataFrame(data=ulke_ohe, index=range(22), columns=[\"France\",\"Turkey\",\"United States\"])\n",
    "# 1. SONUCULKE DATAFRAME: OneHotEncode edilmiş ulke dataframe\n",
    "\n",
    "#########################################################\n",
    "sonucyas =pd.DataFrame(data=Yas, index=range(22), columns=[\"Boy\",\"Kilo\",\"Yas\"])\n",
    "# 2. SONUCYAS DATAFRAME: Impute edilerek eksik verileri tamamlanmış Yas verileri\n",
    "\n",
    "#########################################################\n",
    "sonuccinsiyet = veriler.iloc[:,-1].values\n",
    "# SONUCCINSİYET DİZİ:tüm satırları içeren -1 son kolon veriler içinde values ile dizi olarak alınıyor.\n",
    "sonuccinsiyet = pd.DataFrame(data=sonuccinsiyet, index=range(22), columns=[\"Cinsiyet\"])\n",
    "# 3. SONUCCINSİYET DATAFRAME: Dataframe çevrilmişş sonuccinsiyet dizisi\n",
    "##########################################################\n",
    "\n",
    "# DATAFRAMELERİ BİRLEŞTİRMEK:(2 tane birleştirildiği için 2 tane concat yapılacak)\n",
    "s1 = pd.concat([sonuculke,sonucyas], axis=1)\n",
    "stoplam = pd.concat([s1,sonuccinsiyet], axis=1)\n",
    "\n",
    "print(sonuculke)\n",
    "print(sonucyas)\n",
    "print(sonuccinsiyet)\n",
    "print(s1)\n",
    "print(stoplam)"
   ]
  },
  {
   "cell_type": "code",
   "execution_count": 22,
   "metadata": {},
   "outputs": [],
   "source": [
    "# 3. VERİLERİN TEST VE TRAIN OLARAK BÖLÜNMESİ [2.8] [3.4]\n",
    "\n",
    "# Burada bağımsız değişken yani x değeri aylar oluyor\n",
    "# x e bağımlı Bağımlı değişken yani tahmin edeceğimiz değişken y değeri satıs kolonu olucak\n",
    "# test_size=0.33 verilerin 33% test, %67 train olacağı anlamına geliyor.\n",
    "\n",
    "from sklearn.model_selection import train_test_split\n",
    "x_train, x_test, y_train, y_test = train_test_split(aylar,satıs,test_size=0.33,random_state=0)\n",
    "\n",
    "#print(x_train)\n",
    "#print(y_train)\n",
    "#print(x_test)\n",
    "#print(y_test)\n",
    "\n",
    "# index numaralarına dikkat: rastgele alınmış satırlar"
   ]
  },
  {
   "cell_type": "code",
   "execution_count": 23,
   "metadata": {},
   "outputs": [],
   "source": [
    "# 4. VERİLERİN ÖZNİTELİK ÖLÇEKLENMESİ [2.9] [3.4]\n",
    "\n",
    "from sklearn.preprocessing import StandardScaler\n",
    "sc=StandardScaler()\n",
    "\n",
    "X_train = sc.fit_transform(x_train)\n",
    "X_test = sc.fit_transform(x_test)\n",
    "Y_train = sc.fit_transform(y_train)\n",
    "Y_test = sc.fit_transform(y_test)\n",
    "\n",
    "# print(X_train), print(Y_train), print(X_test), print(Y_test)"
   ]
  },
  {
   "cell_type": "code",
   "execution_count": 24,
   "metadata": {},
   "outputs": [
    {
     "data": {
      "text/plain": [
       "(numpy.ndarray, numpy.ndarray)"
      ]
     },
     "execution_count": 24,
     "metadata": {},
     "output_type": "execute_result"
    }
   ],
   "source": [
    "type(X_train),type(Y_train) # aşağıda sklearn kutup. bağımlı ve bağımısız değşk. array olarak istiyor."
   ]
  },
  {
   "cell_type": "code",
   "execution_count": 25,
   "metadata": {},
   "outputs": [
    {
     "name": "stdout",
     "output_type": "stream",
     "text": [
      "[[-1.66597621]\n",
      " [ 1.25819492]\n",
      " [-0.99762385]\n",
      " [-0.7856508 ]\n",
      " [ 1.0709181 ]\n",
      " [ 0.81055426]\n",
      " [ 0.92122098]\n",
      " [-1.04207705]\n",
      " [-0.09933754]\n",
      " [ 0.52977719]]\n"
     ]
    },
    {
     "data": {
      "text/plain": [
       "(array([[-1.33324088],\n",
       "        [ 1.05398097],\n",
       "        [-0.65761206],\n",
       "        [-0.70265398],\n",
       "        [ 0.82877136],\n",
       "        [ 0.60356175],\n",
       "        [ 0.82877136],\n",
       "        [-0.70265398],\n",
       "        [-0.29727668],\n",
       "        [ 0.37835214]]),\n",
       " None)"
      ]
     },
     "execution_count": 25,
     "metadata": {},
     "output_type": "execute_result"
    }
   ],
   "source": [
    "# 5a. LİNEER DOGRUSAL REGRESYON MODEL OLUŞTURULMASI VE FİT EDİLMESİ [3.5] \n",
    "# SCALE EDİLEREK..........\n",
    "# CRISP-DM [MODELLING PHASE : PREDICTION, CLASSIFICATION, CLUSTERING,ARM , REINFORCED LEARNING, TEXT PROCESSING, DEEP LEARNING]                                                                                REINFORCED LEARNING, TEXT PROCESSING, DL]\n",
    "\n",
    "from sklearn.linear_model import LinearRegression  # sklearn kutuphanesinden liner model import edelim.\n",
    "lr=LinearRegression()            # lr objesi oluşturalım.\n",
    "lr.fit(X_train,Y_train)          # lr objesi ile fit metodla ölçeklenmiş eğitim verilerini eğitelim.\n",
    "\n",
    "tahmin=lr.predict(X_test)        # eğitilmiş veri ağırlıkları ile predict metodla ölçekli test verilerinden tahmin et.\n",
    "\n",
    "tahmin, print(Y_test)            # tahmin (predict) edilen ile gercek test çıktılarını karşılaştıralım. "
   ]
  },
  {
   "cell_type": "code",
   "execution_count": 26,
   "metadata": {},
   "outputs": [
    {
     "data": {
      "text/plain": [
       "array([[20126.21865404],\n",
       "       [57740.29412655],\n",
       "       [30771.7117123 ],\n",
       "       [30062.01217508],\n",
       "       [54191.79644047],\n",
       "       [50643.29875438],\n",
       "       [54191.79644047],\n",
       "       [30062.01217508],\n",
       "       [36449.30801003],\n",
       "       [47094.80106829]])"
      ]
     },
     "execution_count": 26,
     "metadata": {},
     "output_type": "execute_result"
    }
   ],
   "source": [
    "# 5b. LİNEER DOGRUSAL REGRESYON MODEL OLUŞTURULMASI VE FİT EDİLMESİ [3.5] \n",
    "# SCALE EDİLMEDEN..........\n",
    "\n",
    "lrnoscale=LinearRegression()     # LR metodu ile lrnoscale objesi oluşturalım. \n",
    "lrnoscale.fit(x_train,y_train)   # ölçeksiz değişkenlerle objeyi eğitelim.\n",
    "tahminnoscale=lrnoscale.predict(x_test) # eğitilmiş veri ağırlıkları ile predict metodla ölçeksiz test verilerinden tahmin et.\n",
    "\n",
    "tahminnoscale # array olarak tahmin edilen ölçeksiz satış sonuçları görelim"
   ]
  },
  {
   "cell_type": "code",
   "execution_count": 27,
   "metadata": {},
   "outputs": [
    {
     "data": {
      "text/plain": [
       "<function matplotlib.pyplot.show(close=None, block=None)>"
      ]
     },
     "execution_count": 27,
     "metadata": {},
     "output_type": "execute_result"
    },
    {
     "data": {
      "image/png": "[encoded data removed]",
      "text/plain": [
       "<Figure size 432x288 with 1 Axes>"
      ]
     },
     "metadata": {
      "needs_background": "light"
     },
     "output_type": "display_data"
    }
   ],
   "source": [
    "# 6. MATLOP İLE GÖRSELLEŞTİRME (5b Scale edilmemiş model görselleştiriyouz)\n",
    "\n",
    "# VERİLERİN .sort ile INDEXE GORE SIRALANMASI : indexe göre sırlama yapılarak veriler düzene sokuluyor.\n",
    "x_train = x_train.sort_index()    # Ölçeksiz x ay değişkenleri sıralandıralım.\n",
    "y_train = y_train.sort_index()    # Ölçeksiz y satış değişkenleri sıralandıralım.\n",
    "\n",
    "# GÖRSELLEŞTİRME İŞLEMLERİ \n",
    "\n",
    "plt.plot(x_train,y_train, color=\"green\")   # Ölçeksiz gerçek değişken veriler yeşil renk ile\n",
    "plt.plot(x_test,lrnoscale.predict(x_test), color=\"brown\") # Ölçeksiz tahmin edilen değişken veriler kahve rengiyle\n",
    "\n",
    "plt.title(\"AYLARA GÖRE SATIŞ\")\n",
    "plt.xlabel(\"Aylar\")\n",
    "plt.ylabel(\"Satışlar\")\n",
    "plt.grid(True)\n",
    "plt.show\n"
   ]
  }
 ],
 "metadata": {
  "kernelspec": {
   "display_name": "Python 3",
   "language": "python",
   "name": "python3"
  },
  "language_info": {
   "codemirror_mode": {
    "name": "ipython",
    "version": 3
   },
   "file_extension": ".py",
   "mimetype": "text/x-python",
   "name": "python",
   "nbconvert_exporter": "python",
   "pygments_lexer": "ipython3",
   "version": "3.8.5"
  }
 },
 "nbformat": 4,
 "nbformat_minor": 4
}
